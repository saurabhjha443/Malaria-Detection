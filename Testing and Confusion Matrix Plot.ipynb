{
 "cells": [
  {
   "cell_type": "code",
   "execution_count": 1,
   "metadata": {},
   "outputs": [],
   "source": [
    "from tensorflow.keras.preprocessing.image import ImageDataGenerator\n",
    "train_datagen = ImageDataGenerator(rescale = 1./255,\n",
    " shear_range = 0.2,\n",
    " zoom_range = 0.2,\n",
    " horizontal_flip = True)\n",
    "test_datagen = ImageDataGenerator(rescale = 1./255)\n"
   ]
  },
  {
   "cell_type": "code",
   "execution_count": 2,
   "metadata": {},
   "outputs": [
    {
     "name": "stdout",
     "output_type": "stream",
     "text": [
      "Found 134 images belonging to 2 classes.\n"
     ]
    }
   ],
   "source": [
    "test_set = test_datagen.flow_from_directory('Dataset/Test',\n",
    " target_size = (224, 224),\n",
    " batch_size = 32,\n",
    " class_mode = 'categorical')"
   ]
  },
  {
   "cell_type": "code",
   "execution_count": 3,
   "metadata": {},
   "outputs": [],
   "source": [
    "from tensorflow.keras.models import load_model\n",
    "\n",
    "# Model saved with Keras model.save()\n",
    "MODEL_PATH ='model_vgg19.h5'\n",
    "\n",
    "# Load your trained model\n",
    "model = load_model(MODEL_PATH)"
   ]
  },
  {
   "cell_type": "code",
   "execution_count": 4,
   "metadata": {},
   "outputs": [],
   "source": [
    " y_pred = model.predict(test_set)"
   ]
  },
  {
   "cell_type": "code",
   "execution_count": 5,
   "metadata": {},
   "outputs": [
    {
     "data": {
      "text/plain": [
       "array([[3.77726299e-03, 9.96222734e-01],\n",
       "       [6.21868186e-02, 9.37813222e-01],\n",
       "       [9.99680638e-01, 3.19386541e-04],\n",
       "       [7.33568192e-01, 2.66431868e-01],\n",
       "       [2.77041905e-02, 9.72295761e-01],\n",
       "       [3.51420522e-01, 6.48579478e-01],\n",
       "       [9.99854922e-01, 1.45101134e-04],\n",
       "       [5.62469661e-01, 4.37530398e-01],\n",
       "       [9.99584496e-01, 4.15479502e-04],\n",
       "       [2.66673174e-02, 9.73332644e-01],\n",
       "       [9.99835610e-01, 1.64366837e-04],\n",
       "       [9.99790609e-01, 2.09422928e-04],\n",
       "       [9.94786859e-01, 5.21314982e-03],\n",
       "       [7.95964450e-02, 9.20403600e-01],\n",
       "       [2.67133638e-02, 9.73286688e-01],\n",
       "       [5.22698089e-02, 9.47730184e-01],\n",
       "       [9.41605926e-01, 5.83940633e-02],\n",
       "       [1.42495185e-01, 8.57504845e-01],\n",
       "       [1.02938088e-02, 9.89706159e-01],\n",
       "       [8.48820686e-01, 1.51179254e-01],\n",
       "       [9.99913931e-01, 8.60950167e-05],\n",
       "       [4.26607013e-01, 5.73393047e-01],\n",
       "       [1.16299026e-01, 8.83701026e-01],\n",
       "       [9.75712121e-01, 2.42878925e-02],\n",
       "       [5.37910238e-02, 9.46208954e-01],\n",
       "       [9.99999285e-01, 6.78014885e-07],\n",
       "       [9.80807245e-01, 1.91927906e-02],\n",
       "       [9.96749878e-01, 3.25014745e-03],\n",
       "       [9.99940872e-01, 5.91624339e-05],\n",
       "       [1.13631934e-01, 8.86368096e-01],\n",
       "       [9.11167204e-01, 8.88328403e-02],\n",
       "       [1.00000000e+00, 5.56785418e-09],\n",
       "       [9.89062250e-01, 1.09377559e-02],\n",
       "       [9.99937415e-01, 6.25946559e-05],\n",
       "       [9.99973655e-01, 2.63286001e-05],\n",
       "       [7.60960579e-02, 9.23903942e-01],\n",
       "       [9.98122752e-01, 1.87728333e-03],\n",
       "       [8.54977012e-01, 1.45022959e-01],\n",
       "       [7.85597324e-01, 2.14402705e-01],\n",
       "       [9.99727428e-01, 2.72591918e-04],\n",
       "       [7.79348314e-02, 9.22065198e-01],\n",
       "       [8.14394414e-01, 1.85605556e-01],\n",
       "       [9.99862194e-01, 1.37764408e-04],\n",
       "       [9.99995708e-01, 4.34720141e-06],\n",
       "       [6.69995546e-02, 9.33000445e-01],\n",
       "       [9.78302777e-01, 2.16971543e-02],\n",
       "       [1.37733385e-01, 8.62266600e-01],\n",
       "       [9.96966064e-01, 3.03391251e-03],\n",
       "       [9.64657664e-01, 3.53423730e-02],\n",
       "       [6.58888638e-01, 3.41111332e-01],\n",
       "       [9.99096274e-01, 9.03777429e-04],\n",
       "       [2.90788934e-02, 9.70921099e-01],\n",
       "       [9.51245964e-01, 4.87540960e-02],\n",
       "       [4.80751060e-02, 9.51924920e-01],\n",
       "       [9.37498827e-03, 9.90625024e-01],\n",
       "       [9.92535949e-01, 7.46406941e-03],\n",
       "       [4.96625096e-01, 5.03374934e-01],\n",
       "       [4.46416214e-02, 9.55358326e-01],\n",
       "       [9.99994755e-01, 5.23468771e-06],\n",
       "       [7.92534769e-01, 2.07465261e-01],\n",
       "       [2.49052513e-02, 9.75094676e-01],\n",
       "       [6.52000666e-01, 3.47999364e-01],\n",
       "       [7.25329965e-02, 9.27466989e-01],\n",
       "       [3.15008223e-01, 6.84991777e-01],\n",
       "       [8.01913381e-01, 1.98086604e-01],\n",
       "       [8.44473004e-01, 1.55527011e-01],\n",
       "       [2.93028634e-02, 9.70697105e-01],\n",
       "       [9.81848955e-01, 1.81510355e-02],\n",
       "       [7.36469626e-02, 9.26352978e-01],\n",
       "       [7.20607400e-01, 2.79392660e-01],\n",
       "       [3.86598147e-02, 9.61340129e-01],\n",
       "       [9.13027167e-01, 8.69727731e-02],\n",
       "       [6.72240779e-02, 9.32775974e-01],\n",
       "       [4.65420596e-02, 9.53457952e-01],\n",
       "       [9.99927998e-01, 7.19879099e-05],\n",
       "       [9.99836445e-01, 1.63586170e-04],\n",
       "       [9.99995351e-01, 4.68705957e-06],\n",
       "       [2.82993298e-02, 9.71700609e-01],\n",
       "       [7.74592161e-01, 2.25407809e-01],\n",
       "       [8.46040919e-02, 9.15395975e-01],\n",
       "       [5.64740658e-01, 4.35259372e-01],\n",
       "       [9.53926682e-01, 4.60733287e-02],\n",
       "       [9.99147534e-01, 8.52417143e-04],\n",
       "       [9.99504447e-01, 4.95534972e-04],\n",
       "       [3.09107453e-02, 9.69089270e-01],\n",
       "       [9.98033464e-01, 1.96657726e-03],\n",
       "       [9.89815593e-01, 1.01844380e-02],\n",
       "       [9.93485034e-01, 6.51501724e-03],\n",
       "       [9.98226702e-01, 1.77325646e-03],\n",
       "       [9.69726026e-01, 3.02740131e-02],\n",
       "       [1.99335113e-01, 8.00664902e-01],\n",
       "       [9.99721229e-01, 2.78760330e-04],\n",
       "       [9.99998569e-01, 1.47930052e-06],\n",
       "       [9.99985337e-01, 1.46407219e-05],\n",
       "       [9.33516979e-01, 6.64829910e-02],\n",
       "       [9.97366607e-01, 2.63345707e-03],\n",
       "       [1.04434900e-02, 9.89556491e-01],\n",
       "       [9.99068439e-01, 9.31616058e-04],\n",
       "       [9.99998689e-01, 1.34526908e-06],\n",
       "       [9.04192328e-01, 9.58076790e-02],\n",
       "       [7.08026171e-01, 2.91973799e-01],\n",
       "       [2.15925537e-02, 9.78407443e-01],\n",
       "       [1.79526001e-01, 8.20473969e-01],\n",
       "       [3.90607625e-01, 6.09392405e-01],\n",
       "       [8.48463356e-01, 1.51536673e-01],\n",
       "       [9.55748677e-01, 4.42513563e-02],\n",
       "       [1.78368106e-01, 8.21631908e-01],\n",
       "       [2.56446630e-01, 7.43553400e-01],\n",
       "       [9.99646425e-01, 3.53570882e-04],\n",
       "       [6.61823452e-01, 3.38176608e-01],\n",
       "       [1.00000000e+00, 1.31814044e-08],\n",
       "       [9.26610827e-01, 7.33892098e-02],\n",
       "       [9.99980807e-01, 1.92336047e-05],\n",
       "       [8.65602374e-01, 1.34397611e-01],\n",
       "       [9.99316454e-01, 6.83533610e-04],\n",
       "       [4.82946366e-01, 5.17053604e-01],\n",
       "       [2.26018913e-02, 9.77398098e-01],\n",
       "       [8.15682530e-01, 1.84317455e-01],\n",
       "       [9.99930739e-01, 6.92849644e-05],\n",
       "       [1.34621561e-02, 9.86537814e-01],\n",
       "       [9.97438550e-01, 2.56145676e-03],\n",
       "       [9.52461421e-01, 4.75385636e-02],\n",
       "       [9.99700785e-01, 2.99298030e-04],\n",
       "       [1.33023798e-01, 8.66976261e-01],\n",
       "       [3.01815663e-02, 9.69818354e-01],\n",
       "       [9.72831368e-01, 2.71686390e-02],\n",
       "       [9.99961019e-01, 3.89583693e-05],\n",
       "       [9.99957442e-01, 4.25866710e-05],\n",
       "       [1.44461364e-01, 8.55538666e-01],\n",
       "       [9.90637481e-01, 9.36260261e-03],\n",
       "       [2.19181478e-02, 9.78081822e-01],\n",
       "       [1.81540042e-01, 8.18459928e-01],\n",
       "       [1.24900728e-01, 8.75099301e-01],\n",
       "       [8.12208176e-01, 1.87791780e-01]], dtype=float32)"
      ]
     },
     "execution_count": 5,
     "metadata": {},
     "output_type": "execute_result"
    }
   ],
   "source": [
    "y_pred"
   ]
  },
  {
   "cell_type": "code",
   "execution_count": 7,
   "metadata": {},
   "outputs": [],
   "source": [
    "import numpy as np\n",
    "y_pred=np.argmax(y_pred, axis=1)"
   ]
  },
  {
   "cell_type": "code",
   "execution_count": 8,
   "metadata": {},
   "outputs": [
    {
     "data": {
      "text/plain": [
       "array([1, 1, 0, 0, 1, 1, 0, 0, 0, 1, 0, 0, 0, 1, 1, 1, 0, 1, 1, 0, 0, 1,\n",
       "       1, 0, 1, 0, 0, 0, 0, 1, 0, 0, 0, 0, 0, 1, 0, 0, 0, 0, 1, 0, 0, 0,\n",
       "       1, 0, 1, 0, 0, 0, 0, 1, 0, 1, 1, 0, 1, 1, 0, 0, 1, 0, 1, 1, 0, 0,\n",
       "       1, 0, 1, 0, 1, 0, 1, 1, 0, 0, 0, 1, 0, 1, 0, 0, 0, 0, 1, 0, 0, 0,\n",
       "       0, 0, 1, 0, 0, 0, 0, 0, 1, 0, 0, 0, 0, 1, 1, 1, 0, 0, 1, 1, 0, 0,\n",
       "       0, 0, 0, 0, 0, 1, 1, 0, 0, 1, 0, 0, 0, 1, 1, 0, 0, 0, 1, 0, 1, 1,\n",
       "       1, 0], dtype=int64)"
      ]
     },
     "execution_count": 8,
     "metadata": {},
     "output_type": "execute_result"
    }
   ],
   "source": [
    "y_pred"
   ]
  },
  {
   "cell_type": "code",
   "execution_count": 9,
   "metadata": {},
   "outputs": [
    {
     "data": {
      "text/plain": [
       "{'Parasite': 0, 'Uninfected': 1}"
      ]
     },
     "execution_count": 9,
     "metadata": {},
     "output_type": "execute_result"
    }
   ],
   "source": [
    "test_set.class_indices"
   ]
  },
  {
   "cell_type": "code",
   "execution_count": 10,
   "metadata": {},
   "outputs": [
    {
     "data": {
      "text/plain": [
       "array([0, 0, 0, 0, 0, 0, 0, 0, 0, 0, 0, 0, 0, 0, 0, 0, 0, 0, 0, 0, 0, 0,\n",
       "       0, 0, 0, 0, 0, 0, 0, 0, 0, 0, 0, 0, 0, 0, 0, 0, 0, 0, 0, 0, 0, 0,\n",
       "       0, 0, 0, 0, 0, 0, 0, 0, 0, 0, 0, 0, 0, 0, 0, 0, 0, 0, 0, 0, 0, 0,\n",
       "       0, 0, 0, 0, 0, 0, 0, 0, 0, 0, 0, 0, 0, 0, 0, 0, 0, 0, 0, 0, 0, 0,\n",
       "       0, 0, 0, 1, 1, 1, 1, 1, 1, 1, 1, 1, 1, 1, 1, 1, 1, 1, 1, 1, 1, 1,\n",
       "       1, 1, 1, 1, 1, 1, 1, 1, 1, 1, 1, 1, 1, 1, 1, 1, 1, 1, 1, 1, 1, 1,\n",
       "       1, 1])"
      ]
     },
     "execution_count": 10,
     "metadata": {},
     "output_type": "execute_result"
    }
   ],
   "source": [
    "y_true=test_set.classes\n",
    "y_true"
   ]
  },
  {
   "cell_type": "code",
   "execution_count": 11,
   "metadata": {},
   "outputs": [],
   "source": [
    "from sklearn.metrics import confusion_matrix\n",
    "cf =confusion_matrix(y_pred,y_true)"
   ]
  },
  {
   "cell_type": "code",
   "execution_count": 12,
   "metadata": {},
   "outputs": [
    {
     "data": {
      "text/plain": [
       "<matplotlib.axes._subplots.AxesSubplot at 0x19f9f33ffc8>"
      ]
     },
     "execution_count": 12,
     "metadata": {},
     "output_type": "execute_result"
    },
    {
     "data": {
      "image/png": "[encoded data removed]",
      "text/plain": [
       "<Figure size 432x288 with 2 Axes>"
      ]
     },
     "metadata": {
      "needs_background": "light"
     },
     "output_type": "display_data"
    }
   ],
   "source": [
    "import seaborn as sns\n",
    "sns.heatmap(cf, annot=True)"
   ]
  }
 ],
 "metadata": {
  "kernelspec": {
   "display_name": "Python 3",
   "language": "python",
   "name": "python3"
  },
  "language_info": {
   "codemirror_mode": {
    "name": "ipython",
    "version": 3
   },
   "file_extension": ".py",
   "mimetype": "text/x-python",
   "name": "python",
   "nbconvert_exporter": "python",
   "pygments_lexer": "ipython3",
   "version": "3.7.6"
  }
 },
 "nbformat": 4,
 "nbformat_minor": 4
}
